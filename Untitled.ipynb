{
 "cells": [
  {
   "cell_type": "markdown",
   "metadata": {},
   "source": [
    "                            Вариант 9\n",
    "Вычислить силу давления воды на стенки прямоугольного\n",
    "аквариума заданных размеров a*b*c и сферического аквариума радиуса R имеющего такой же объем как и прямоугольный.\n",
    "\n",
    "A-A width\n",
    "B-B width\n",
    "C-height\n",
    "R - находим из равенства объемов прямоугольного и сферического аквариумов\n",
    "R0 - плотность воды\n",
    "G - ускорение свободного падения"
   ]
  },
  {
   "cell_type": "code",
   "execution_count": 2,
   "metadata": {
    "collapsed": true
   },
   "outputs": [],
   "source": [
    "import math\n",
    "import scipy.integrate as spint \n",
    "import numpy as np\n",
    "from numpy import polynomial as pn \n",
    "\n",
    "A=0.3 \n",
    "B=0.75\n",
    "C=2\n",
    "R=((3*A*B*C)/(4*math.pi))**(1/3)\n",
    "V=A*B*C\n",
    "RO=1000\n",
    "G=9.8"
   ]
  },
  {
   "cell_type": "code",
   "execution_count": 3,
   "metadata": {
    "collapsed": true
   },
   "outputs": [],
   "source": [
    "def simpson_i(f,a,b,n):\n",
    "    '''\n",
    "    метод приближенного вычисления интеграла по формуле Симпсона\n",
    "    '''\n",
    "    k=(b-a)/2\n",
    "    return k * (sum(2 * f(a + x * k) if x % 2 == 0 else 4 * f(a + x*k) for x in range(1, n)) + f(a) + f(b)) / 3    \n",
    "    \n",
    "    \n",
    "def trapeze_i(f,a,b,n):\n",
    "    '''\n",
    "    приближенное вычисление интеграла методом трапеции\n",
    "    '''\n",
    "    k=(b-a)/2\n",
    "    return ((f(a) + f(b)) / 2 + sum(f(x) for x in np.arange(a + k, b, k))) * k\n",
    "    \n",
    "    \n",
    "def gausse_i(f,a,b,n):\n",
    "    '''\n",
    "    метод приближенного вычисления интеграла по формуле Гаусса\n",
    "    '''\n",
    "    t_list, a_list = pn.legendre.leggauss(n)\n",
    "    return sum(a_i * f((b + a) / 2 + t_i * (b - a) / 2) for a_i, t_i in zip(a_list, t_list)) * (b - a)/2\n",
    " \n",
    "#-------------------- INTEGRALS \\/\n",
    "def integr_trap(a,b,n,f):\n",
    "    total=0\n",
    "    for i in range(1,n-1):\n",
    "        total+=f\n",
    "    #total=get_h(a,b,n)*(total+)\n",
    "    return total\n",
    "\n",
    "#-------------------- INTEGRALS /\\\n",
    "#print (integr_trap(0,1,10,math.sin()))"
   ]
  },
  {
   "cell_type": "code",
   "execution_count": 4,
   "metadata": {
    "collapsed": true
   },
   "outputs": [],
   "source": [
    "#-------------------- 4 CUBE \\/\n",
    "# блок функций вычислясляющих давление на стенки \n",
    "# прямоугольного аквариума, используя различные методы\n",
    "# вычисления интегралов\n",
    "# n - число отрезков\n",
    "n=100\n",
    "def f_a(c):\n",
    "    return RO*G*c*B*c\n",
    "    \n",
    "    \n",
    "def f_b(с):\n",
    "    return RO*G*A*с*с\n",
    "\n",
    "\n",
    "def calc_pressure_cub_a_side(c):\n",
    "    return spint.quad(f_a,0,c)\n",
    "    \n",
    "    \n",
    "def calc_pressure_cub_a_side_s_i(c):\n",
    "    return simpson_i(f_a,0,c,n) \n",
    "    \n",
    "    \n",
    "def calc_pressure_cub_a_side_t_i(c):\n",
    "    return trapeze_i(f_a,0,c,n) \n",
    "\n",
    "\n",
    "def calc_pressure_cub_a_side_g_i(c):\n",
    "    return gausse_i(f_a,0,c,n) \n",
    "       \n",
    "    \n",
    "def calc_pressure_cub_b_side(c):\n",
    "    return spint.quad(f_b,0,c)\n",
    "    \n",
    "    \n",
    "def calc_pressure_cub_bottom(c):\n",
    "\n",
    "    return RO*G*c\n",
    "#-------------------- 4 CUBE /\\"
   ]
  },
  {
   "cell_type": "code",
   "execution_count": null,
   "metadata": {
    "collapsed": true
   },
   "outputs": [],
   "source": [
    "#-------------------- 4 SPHERE \\/\n",
    "# блок функций вычисляющий даление на дно и стороны\n",
    "# сферического аквариума с помощью библиотечной\n",
    "# функции интегрирования\n",
    "get_rad=(lambda h: math.pi*(2*h*R-h*h)*RO*G)\n",
    "get_df=(lambda x: math.pi*RO*G*((2*R*x-x*x)**0.5)*(2*R-x)*2)\n",
    " \n",
    " \n",
    "def calc_pressure_sphere_sides(R):\n",
    "    #return spint.quad(get_rad,0,2*R)\n",
    "    return spint.quad(get_df,0,2*R)\n",
    "\n",
    "def calc_pressure_sphere_bottom(R):\n",
    "    return RO*G*R\n",
    "    \n",
    "\n",
    "get_h=(lambda a,b,n: (b-a)/n)\n",
    "\n",
    "#-------------------- 4 SPHERE /\\ "
   ]
  },
  {
   "cell_type": "code",
   "execution_count": 5,
   "metadata": {
    "collapsed": false
   },
   "outputs": [
    {
     "name": "stdout",
     "output_type": "stream",
     "text": [
      "bottom: 19600.0\n",
      "a-side: (19600.0, 2.1760371282653068e-10)\n",
      "a-side simpson : 2425509800.0\n",
      "a-side trapeeze 22050.0\n",
      "a-side gausse 19600.0\n",
      "b-side (7840.000000000001, 8.704148513061229e-11)\n",
      "sphere pressure (10390.81770100228, 8.85448207554873e-06)\n",
      "sphere bottom 4658.728239148577\n"
     ]
    }
   ],
   "source": [
    "# вывод     \n",
    "print ('bottom:',calc_pressure_cub_bottom(C)) \n",
    "print ('a-side:',calc_pressure_cub_a_side(C)) \n",
    "print ('a-side simpson :',calc_pressure_cub_a_side_s_i(C))  \n",
    "print ('a-side trapeeze',calc_pressure_cub_a_side_t_i(C))  \n",
    "print ('a-side gausse',calc_pressure_cub_a_side_g_i(C))  \n",
    "print ('b-side',calc_pressure_cub_b_side(C))   \n",
    "print ('sphere pressure',calc_pressure_sphere_sides(R))\n",
    "print ('sphere bottom',calc_pressure_sphere_bottom(R))"
   ]
  },
  {
   "cell_type": "code",
   "execution_count": null,
   "metadata": {
    "collapsed": true
   },
   "outputs": [],
   "source": []
  }
 ],
 "metadata": {
  "kernelspec": {
   "display_name": "Python 3",
   "language": "python",
   "name": "python3"
  },
  "language_info": {
   "codemirror_mode": {
    "name": "ipython",
    "version": 3
   },
   "file_extension": ".py",
   "mimetype": "text/x-python",
   "name": "python",
   "nbconvert_exporter": "python",
   "pygments_lexer": "ipython3",
   "version": "3.5.2"
  }
 },
 "nbformat": 4,
 "nbformat_minor": 1
}
